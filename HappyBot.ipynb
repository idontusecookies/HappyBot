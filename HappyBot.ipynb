{
 "cells": [
  {
   "cell_type": "code",
   "execution_count": 2,
   "metadata": {},
   "outputs": [
    {
     "name": "stdout",
     "output_type": "stream",
     "text": [
      "Accuracy: 0.97\n",
      "Models saved to disk.\n"
     ]
    },
    {
     "name": "stderr",
     "output_type": "stream",
     "text": [
      "2024-07-20 02:00:37.605 \n",
      "  \u001b[33m\u001b[1mWarning:\u001b[0m to view this Streamlit app on a browser, run it with the following\n",
      "  command:\n",
      "\n",
      "    streamlit run C:\\Users\\Shashank Sharma\\AppData\\Roaming\\Python\\Python312\\site-packages\\ipykernel_launcher.py [ARGUMENTS]\n",
      "2024-07-20 02:00:37.607 Session state does not function when running a script without `streamlit run`\n"
     ]
    }
   ],
   "source": [
    "import pandas as pd\n",
    "import numpy as np\n",
    "import seaborn as sb\n",
    "from sklearn.feature_extraction.text import CountVectorizer\n",
    "from sklearn.model_selection import train_test_split\n",
    "from sklearn.naive_bayes import MultinomialNB\n",
    "from sklearn.metrics import accuracy_score\n",
    "import random\n",
    "\n",
    "\n",
    "\n",
    "dataset = pd.read_csv('dataset_with_emotions.csv')\n",
    "\n",
    " \n",
    "inputs = dataset['User Input'].values\n",
    "outputs = dataset['Chatbot Response'].values\n",
    "emotions = dataset['Emotion'].values\n",
    "\n",
    "\n",
    "vectorizer = CountVectorizer()\n",
    "X = vectorizer.fit_transform(inputs)\n",
    "X_train, X_test, y_train, y_test = train_test_split(X, emotions, test_size=0.3, random_state=42)\n",
    "\n",
    "\n",
    "\n",
    "emotion_clf = MultinomialNB()\n",
    "# Train the classifier\n",
    "emotion_clf.fit(X_train, y_train)\n",
    "# Predict on the test set\n",
    "y_pred = emotion_clf.predict(X_test)\n",
    "# Evaluate accuracy\n",
    "accuracy = accuracy_score(y_test, y_pred)\n",
    "print(f'Accuracy: {accuracy:.2f}')\n",
    "\n",
    "\n",
    "\n",
    "\n",
    "import streamlit as st\n",
    "import pickle\n",
    "\n",
    "with open('emotion_clf.pkl', 'wb') as f:\n",
    "    pickle.dump(emotion_clf, f)\n",
    "\n",
    "with open('vectorizer.pkl', 'wb') as f:\n",
    "    pickle.dump(vectorizer, f)\n",
    "\n",
    "print(\"Models saved to disk.\")\n",
    "\n",
    "# Load the dataset\n",
    "dataset = pd.read_csv('dataset_with_emotions.csv')\n",
    "inputs = dataset['User Input'].values\n",
    "emotions = dataset['Emotion'].values\n",
    "\n",
    "# Load the saved CountVectorizer\n",
    "with open('vectorizer.pkl', 'rb') as f:\n",
    "    vectorizer = pickle.load(f)\n",
    "\n",
    "# Load the saved MultinomialNB classifier\n",
    "with open('emotion_clf.pkl', 'rb') as f:\n",
    "    emotion_clf = pickle.load(f)\n",
    "\n",
    "    # Streamlit UI\n",
    "st.title('Emotion Classifier')\n",
    "\n",
    "user_input = st.text_input('Enter your message:')\n",
    "if user_input:\n",
    "    transformed_input = vectorizer.transform([user_input])\n",
    "    prediction = emotion_clf.predict(transformed_input)\n",
    "    st.write(f'Predicted Emotion: {prediction[0]}')\n",
    "\n"
   ]
  }
 ],
 "metadata": {
  "kernelspec": {
   "display_name": "Python 3",
   "language": "python",
   "name": "python3"
  },
  "language_info": {
   "codemirror_mode": {
    "name": "ipython",
    "version": 3
   },
   "file_extension": ".py",
   "mimetype": "text/x-python",
   "name": "python",
   "nbconvert_exporter": "python",
   "pygments_lexer": "ipython3",
   "version": "3.12.4"
  }
 },
 "nbformat": 4,
 "nbformat_minor": 2
}
